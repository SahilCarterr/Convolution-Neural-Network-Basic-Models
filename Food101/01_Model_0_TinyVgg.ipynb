{
 "cells": [
  {
   "cell_type": "code",
   "execution_count": 1,
   "id": "67804201",
   "metadata": {},
   "outputs": [],
   "source": [
    "import torch\n",
    "from torch import nn"
   ]
  },
  {
   "cell_type": "code",
   "execution_count": 2,
   "id": "8d4adbd9",
   "metadata": {},
   "outputs": [],
   "source": [
    "# Setup device agnostic code\n",
    "device=\"cuda\" if torch.cuda.is_available() else \"cpu\""
   ]
  },
  {
   "cell_type": "markdown",
   "id": "f24764f2",
   "metadata": {},
   "source": [
    "## 1.Get the Data"
   ]
  },
  {
   "cell_type": "code",
   "execution_count": 3,
   "id": "03e0ae2d",
   "metadata": {},
   "outputs": [
    {
     "name": "stdout",
     "output_type": "stream",
     "text": [
      "Did not find data\\pizza_steak_sushi directory, creating one...\n",
      "Downloading pizza, steak, sushi data...\n",
      "Unzipping pizza, steak, sushi data...\n"
     ]
    }
   ],
   "source": [
    "import requests\n",
    "import zipfile\n",
    "from pathlib import Path\n",
    "\n",
    "# Setup path to data folder\n",
    "data_path = Path(\"data/\")\n",
    "image_path = data_path / \"pizza_steak_sushi\"\n",
    "\n",
    "# If the image folder doesn't exist, download it and prepare it... \n",
    "if image_path.is_dir():\n",
    "    print(f\"{image_path} directory exists.\")\n",
    "else:\n",
    "    print(f\"Did not find {image_path} directory, creating one...\")\n",
    "    image_path.mkdir(parents=True, exist_ok=True)\n",
    "    \n",
    "    # Download pizza, steak, sushi data\n",
    "    with open(data_path / \"pizza_steak_sushi.zip\", \"wb\") as f:\n",
    "        request = requests.get(\"https://github.com/mrdbourke/pytorch-deep-learning/raw/main/data/pizza_steak_sushi.zip\")\n",
    "        print(\"Downloading pizza, steak, sushi data...\")\n",
    "        f.write(request.content)\n",
    "\n",
    "    # Unzip pizza, steak, sushi data\n",
    "    with zipfile.ZipFile(data_path / \"pizza_steak_sushi.zip\", \"r\") as zip_ref:\n",
    "        print(\"Unzipping pizza, steak, sushi data...\") \n",
    "        zip_ref.extractall(image_path)"
   ]
  },
  {
   "cell_type": "code",
   "execution_count": 4,
   "id": "6df98692",
   "metadata": {},
   "outputs": [],
   "source": [
    "import os\n",
    "def walk_though_dir(dir_path):\n",
    "    \"\"\"\n",
    "    walks through dir_path returning its contents,\n",
    "    Args:\n",
    "        dir_path (str or pathlib.Path): target directory\n",
    "        \n",
    "    Returns:\n",
    "        A print out of :\n",
    "            number of subdirectories in dir_path\n",
    "            number of images (files) in each subdirectory\n",
    "            name of each subdirectory\n",
    "    \"\"\"\n",
    "    for dirpath, dirnames, filenames in os.walk(dir_path):\n",
    "        print(f\"There are {len(dirnames)} directories and {len(filenames)} images in {dirpath}\")"
   ]
  },
  {
   "cell_type": "code",
   "execution_count": 5,
   "id": "8678be7f",
   "metadata": {},
   "outputs": [
    {
     "name": "stdout",
     "output_type": "stream",
     "text": [
      "There are 2 directories and 0 images in data\\pizza_steak_sushi\n",
      "There are 3 directories and 0 images in data\\pizza_steak_sushi\\test\n",
      "There are 0 directories and 25 images in data\\pizza_steak_sushi\\test\\pizza\n",
      "There are 0 directories and 19 images in data\\pizza_steak_sushi\\test\\steak\n",
      "There are 0 directories and 31 images in data\\pizza_steak_sushi\\test\\sushi\n",
      "There are 3 directories and 0 images in data\\pizza_steak_sushi\\train\n",
      "There are 0 directories and 78 images in data\\pizza_steak_sushi\\train\\pizza\n",
      "There are 0 directories and 75 images in data\\pizza_steak_sushi\\train\\steak\n",
      "There are 0 directories and 72 images in data\\pizza_steak_sushi\\train\\sushi\n"
     ]
    }
   ],
   "source": [
    "walk_though_dir(image_path)"
   ]
  },
  {
   "cell_type": "code",
   "execution_count": 6,
   "id": "34e23608",
   "metadata": {},
   "outputs": [
    {
     "data": {
      "text/plain": [
       "(WindowsPath('data/pizza_steak_sushi/train'),\n",
       " WindowsPath('data/pizza_steak_sushi/test'))"
      ]
     },
     "execution_count": 6,
     "metadata": {},
     "output_type": "execute_result"
    }
   ],
   "source": [
    "#Setup train and testing paths\n",
    "train_dir = image_path / \"train\"\n",
    "test_dir = image_path / \"test\"\n",
    "\n",
    "train_dir, test_dir"
   ]
  },
  {
   "cell_type": "code",
   "execution_count": null,
   "id": "87967687",
   "metadata": {},
   "outputs": [],
   "source": []
  }
 ],
 "metadata": {
  "kernelspec": {
   "display_name": "Python 3 (ipykernel)",
   "language": "python",
   "name": "python3"
  },
  "language_info": {
   "codemirror_mode": {
    "name": "ipython",
    "version": 3
   },
   "file_extension": ".py",
   "mimetype": "text/x-python",
   "name": "python",
   "nbconvert_exporter": "python",
   "pygments_lexer": "ipython3",
   "version": "3.10.4"
  }
 },
 "nbformat": 4,
 "nbformat_minor": 5
}
