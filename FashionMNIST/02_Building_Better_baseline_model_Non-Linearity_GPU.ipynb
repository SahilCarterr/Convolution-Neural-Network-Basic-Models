{
 "cells": [
  {
   "cell_type": "markdown",
   "id": "7c6f2f07",
   "metadata": {},
   "source": [
    "### * Getting Data from previous Model"
   ]
  },
  {
   "cell_type": "code",
   "execution_count": 1,
   "id": "47252e6b",
   "metadata": {},
   "outputs": [],
   "source": [
    "import torch\n",
    "from torch import nn"
   ]
  },
  {
   "cell_type": "code",
   "execution_count": 2,
   "id": "9b44a68d",
   "metadata": {},
   "outputs": [],
   "source": [
    "from initial_functions_from_01 import data_call,accuracy_fn,print_train_time,results_model_0"
   ]
  },
  {
   "cell_type": "code",
   "execution_count": 3,
   "id": "382fd0d2",
   "metadata": {},
   "outputs": [],
   "source": [
    "train_data,test_data,train_dataloader,test_dataloader=data_call()"
   ]
  },
  {
   "cell_type": "code",
   "execution_count": 4,
   "id": "3edc03c1",
   "metadata": {},
   "outputs": [
    {
     "data": {
      "text/plain": [
       "(60000, 10000, 1875, 313)"
      ]
     },
     "execution_count": 4,
     "metadata": {},
     "output_type": "execute_result"
    }
   ],
   "source": [
    "len(train_data),len(test_data),len(train_dataloader),len(test_dataloader)"
   ]
  },
  {
   "cell_type": "markdown",
   "id": "3c3b1923",
   "metadata": {},
   "source": [
    "## 5. Setup Device agnostic-code(for using a GPU if there is one)"
   ]
  },
  {
   "cell_type": "code",
   "execution_count": 5,
   "id": "54ee73a0",
   "metadata": {},
   "outputs": [
    {
     "data": {
      "text/plain": [
       "'cuda'"
      ]
     },
     "execution_count": 5,
     "metadata": {},
     "output_type": "execute_result"
    }
   ],
   "source": [
    "#Setup device agnostic code\n",
    "device = \"cuda\" if torch.cuda.is_available() else \"cpu\"\n",
    "device"
   ]
  },
  {
   "cell_type": "markdown",
   "id": "0cd4d312",
   "metadata": {},
   "source": [
    "## 6. Model 1: Building a better model with non-linearity"
   ]
  },
  {
   "cell_type": "code",
   "execution_count": 6,
   "id": "49f20ea4",
   "metadata": {},
   "outputs": [],
   "source": [
    "#create a model with non-linear and linear layers\n",
    "class FashionMNISTModelV1(nn.Module):\n",
    "    def __init__(self, input_shape:int, hidden_units:int, output_shape:int):\n",
    "        super().__init__()\n",
    "        self.layer_stack=nn.Sequential(\n",
    "            nn.Flatten(),\n",
    "            nn.Linear(in_features=input_shape, out_features=hidden_units),\n",
    "            nn.ReLU(),\n",
    "            nn.Linear(in_features=hidden_units, out_features=output_shape),\n",
    "            nn.ReLU()\n",
    "        )\n",
    "    def forward(self, x: torch.Tensor):\n",
    "        return self.layer_stack(x)"
   ]
  },
  {
   "cell_type": "code",
   "execution_count": 7,
   "id": "3366948a",
   "metadata": {},
   "outputs": [],
   "source": [
    "class_names=train_data.classes"
   ]
  },
  {
   "cell_type": "code",
   "execution_count": 8,
   "id": "3a57c05c",
   "metadata": {},
   "outputs": [
    {
     "data": {
      "text/plain": [
       "device(type='cuda', index=0)"
      ]
     },
     "execution_count": 8,
     "metadata": {},
     "output_type": "execute_result"
    }
   ],
   "source": [
    "torch.manual_seed(42)\n",
    "model_1 = FashionMNISTModelV1(input_shape=784,\n",
    "                             hidden_units=10,\n",
    "                             output_shape=len(class_names)).to(device)\n",
    "next(model_1.parameters()).device"
   ]
  },
  {
   "cell_type": "markdown",
   "id": "6a0f47c7",
   "metadata": {},
   "source": [
    "### 6.1 Setup loss,optimizer and evaluation Metrics "
   ]
  },
  {
   "cell_type": "code",
   "execution_count": 9,
   "id": "77689e92",
   "metadata": {},
   "outputs": [],
   "source": [
    "loss_fn=nn.CrossEntropyLoss()\n",
    "optimizer = torch.optim.SGD(params=model_1.parameters(),lr=0.1)"
   ]
  },
  {
   "cell_type": "code",
   "execution_count": 10,
   "id": "a85a64b4",
   "metadata": {},
   "outputs": [],
   "source": [
    "def train_step(model: torch.nn.Module,\n",
    "              data_loader: torch.utils.data.DataLoader,\n",
    "              loss_fn: torch.nn.Module,\n",
    "              optimizer: torch.optim.Optimizer,\n",
    "              accuracy_fn,\n",
    "              device: torch.device=device):\n",
    "    train_loss,train_acc=0,0\n",
    "    model.to(device)\n",
    "    for batch, (X, y) in enumerate(data_loader):\n",
    "        # Send data to GPU\n",
    "        X, y=X.to(device), y.to(device)\n",
    "        \n",
    "        # 1. forward pass\n",
    "        y_pred = model(X)\n",
    "        \n",
    "        # 2 . Calucate loss\n",
    "        loss=loss_fn(y_pred,y)\n",
    "        train_loss+=loss\n",
    "        train_acc+=accuracy_fn(y_true=y, y_pred=y_pred.argmax(dim=1))# go from logits to pred labels\n",
    "        \n",
    "        # 3 . optimizer zero grad\n",
    "        optimizer.zero_grad()\n",
    "        \n",
    "        # 4 . Loss backwards\n",
    "        loss.backward()\n",
    "        \n",
    "        # 5 . Optimizer step\n",
    "        optimizer.step()\n",
    "        \n",
    "    #Calculate loss and accuracy per epoch and print out what's happening\n",
    "    train_loss /= len(data_loader)\n",
    "    train_acc /= len(data_loader)\n",
    "    print(f\"Train loss: {train_loss:.5f} || Train accuracy : {train_acc:.2f}%\")\n",
    "    \n",
    "def test_step(data_loader: torch.utils.data.DataLoader,\n",
    "             model: torch.nn.Module,\n",
    "             loss_fn: torch.nn.Module,\n",
    "             accuracy_fn,\n",
    "             device: torch.device = device):\n",
    "    test_loss, test_acc = 0,0\n",
    "    model.to(device)\n",
    "    model.eval()# Put model in eval mode\n",
    "    # turn on inference context manager\n",
    "    with torch.inference_mode():\n",
    "        for X, y in data_loader:\n",
    "            # send data to GPU\n",
    "            X, y = X.to(device), y.to(device)\n",
    "            \n",
    "            # 1.forward pass\n",
    "            test_pred = model(X)\n",
    "            \n",
    "            # 2.Calculate loss and accuracy\n",
    "            test_loss+=loss_fn(test_pred,y)\n",
    "            test_acc+=accuracy_fn(y_true=y, y_pred=test_pred.argmax(dim=1))\n",
    "        #adjust the metrics\n",
    "        test_loss /= len(data_loader)\n",
    "        test_acc /= len(data_loader)\n",
    "        print(f\"Test loss: {test_loss:.5f} | Test accuracy: {test_acc:.2f}%\\n\")"
   ]
  },
  {
   "cell_type": "code",
   "execution_count": 11,
   "id": "4a5bc314",
   "metadata": {},
   "outputs": [
    {
     "data": {
      "application/vnd.jupyter.widget-view+json": {
       "model_id": "674e7cbf95574917bb3d3dbf585df2a0",
       "version_major": 2,
       "version_minor": 0
      },
      "text/plain": [
       "  0%|          | 0/3 [00:00<?, ?it/s]"
      ]
     },
     "metadata": {},
     "output_type": "display_data"
    },
    {
     "name": "stdout",
     "output_type": "stream",
     "text": [
      "Epoch: 0\n",
      "-----\n",
      "Train loss: 1.09199 || Train accuracy : 61.34%\n",
      "Test loss: 0.95636 | Test accuracy: 65.00%\n",
      "\n",
      "Epoch: 1\n",
      "-----\n",
      "Train loss: 0.78101 || Train accuracy : 71.93%\n",
      "Test loss: 0.72227 | Test accuracy: 73.91%\n",
      "\n",
      "Epoch: 2\n",
      "-----\n",
      "Train loss: 0.67027 || Train accuracy : 75.94%\n",
      "Test loss: 0.68500 | Test accuracy: 75.02%\n",
      "\n",
      "Train time on cuda: 30.476 seconds\n"
     ]
    }
   ],
   "source": [
    "torch.manual_seed(42)\n",
    "from tqdm.auto import tqdm\n",
    "#Measure time\n",
    "from timeit import default_timer as timer\n",
    "train_time_start_on_gpu = timer()\n",
    "\n",
    "epoch = 3\n",
    "for epoch in tqdm(range(epoch)):\n",
    "    print(f\"Epoch: {epoch}\\n-----\")\n",
    "    train_step(data_loader=train_dataloader,\n",
    "              model=model_1,\n",
    "              loss_fn=loss_fn,\n",
    "              optimizer=optimizer,\n",
    "              accuracy_fn=accuracy_fn)\n",
    "    test_step(data_loader=test_dataloader,\n",
    "             model=model_1,\n",
    "             loss_fn=loss_fn,\n",
    "             accuracy_fn=accuracy_fn)\n",
    "train_time_end_on_gpu=timer()\n",
    "total_train_time_model_1=print_train_time(start=train_time_start_on_gpu,end=train_time_end_on_gpu,\n",
    "                                         device=device)"
   ]
  },
  {
   "cell_type": "code",
   "execution_count": 12,
   "id": "c660dd82",
   "metadata": {},
   "outputs": [],
   "source": [
    "torch.manual_seed(42)\n",
    "def eval_model(model: torch.nn.Module,\n",
    "              data_loader : torch.utils.data.DataLoader,\n",
    "              loss_fn: torch.nn.Module,\n",
    "              accuracy_fn,\n",
    "              device: torch.device = device):\n",
    "    loss, acc = 0,0\n",
    "    model.to(device)\n",
    "    model.eval()# Put model in eval mode\n",
    "    # turn on inference context manager\n",
    "    with torch.inference_mode():\n",
    "        for X, y in data_loader:\n",
    "            # send data to GPU\n",
    "            X, y = X.to(device), y.to(device)\n",
    "            \n",
    "            # 1.forward pass\n",
    "            y_pred = model(X)\n",
    "            \n",
    "            # 2.Calculate loss and accuracy\n",
    "            loss+=loss_fn(y_pred,y)\n",
    "            acc+=accuracy_fn(y_true=y, y_pred=y_pred.argmax(dim=1))\n",
    "        #adjust the metrics\n",
    "        loss /= len(data_loader)\n",
    "        acc /= len(data_loader)\n",
    "    return{\"model_name\": model.__class__.__name__,\n",
    "          \"model_loss\": loss.item(),\n",
    "          \"model_acc\": acc}"
   ]
  },
  {
   "cell_type": "code",
   "execution_count": 13,
   "id": "9a8b0f20",
   "metadata": {},
   "outputs": [
    {
     "data": {
      "text/plain": [
       "{'model_name': 'FashionMNISTModelV1',\n",
       " 'model_loss': 0.6850008368492126,\n",
       " 'model_acc': 75.01996805111821}"
      ]
     },
     "execution_count": 13,
     "metadata": {},
     "output_type": "execute_result"
    }
   ],
   "source": [
    "#Calculate model_1 result with device-agnostic code\n",
    "model_1_result=eval_model(model=model_1, data_loader=test_dataloader, \n",
    "                         loss_fn=loss_fn, accuracy_fn=accuracy_fn, \n",
    "                         device=device)\n",
    "model_1_result"
   ]
  },
  {
   "cell_type": "code",
   "execution_count": 14,
   "id": "cf33d803",
   "metadata": {},
   "outputs": [
    {
     "data": {
      "text/plain": [
       "{'model_name': 'FashionMNISTV0',\n",
       " 'model_loss': '0.4766390025615692',\n",
       " 'model_acc': '83.42651757188499'}"
      ]
     },
     "execution_count": 14,
     "metadata": {},
     "output_type": "execute_result"
    }
   ],
   "source": [
    "model_0_results=results_model_0()\n",
    "model_0_results"
   ]
  }
 ],
 "metadata": {
  "kernelspec": {
   "display_name": "Python 3 (ipykernel)",
   "language": "python",
   "name": "python3"
  },
  "language_info": {
   "codemirror_mode": {
    "name": "ipython",
    "version": 3
   },
   "file_extension": ".py",
   "mimetype": "text/x-python",
   "name": "python",
   "nbconvert_exporter": "python",
   "pygments_lexer": "ipython3",
   "version": "3.10.4"
  }
 },
 "nbformat": 4,
 "nbformat_minor": 5
}
